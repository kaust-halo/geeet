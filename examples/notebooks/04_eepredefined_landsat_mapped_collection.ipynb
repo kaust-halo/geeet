{
 "cells": [
  {
   "cell_type": "markdown",
   "metadata": {},
   "source": [
    "<a href=\"https://githubtocolab.com/kaust-halo/geeet/blob/master/examples/notebooks/04_eepredefined_landsat_mapped_collection.ipynb\" target=\"_parent\"><img src=\"https://colab.research.google.com/assets/colab-badge.svg\" alt=\"Open in Colab\"/></a>\n",
    "\n",
    "# Mapped collections \n",
    "\n",
    "---\n",
    "\n",
    "In the previous notebook, we learned how to create a merged `landsat.collection` with multiple Landsat collections (7, 8, 9) and additional climate reanalysis data (ERA5). We then mapped an ET model (TSEB) to this collection. \n",
    "\n",
    "The `landsat.mapped_collection` is a helper function useful for mapping an arbitrary number of functions to a `landsat.collection`. \n",
    "\n",
    "As a motivating example, in addition to mapping the `tseb_series` model, let's also add one extra step, `extrapolate_LE`: a helper function to extrapolate instantaneous LE (W/m²) to daily ET (mm/day) using the [Jackson et al. (1983)](<https://doi.org/10.1016/0378-3774(83)90095-1>) irradiance model:\n",
    "\n",
    "$$\n",
    "ET_d \\approx ET_i R\n",
    "$$\n",
    "where R is the ratio of instantaneous to daily radiation and can be obtained as:\n",
    "$$\n",
    "R =  \\frac{2N}{2.45 \\times 10^6 \\pi \\times sin(\\pi \\times t/N)}\n",
    "$$\n",
    "where N is the number of seconds between sunset and sunrise, and t is the number of seconds between sunrise and the observation time. We also apply a 1/2.45 scaling factor to convert the values to mm/day. "
   ]
  },
  {
   "cell_type": "code",
   "execution_count": 1,
   "metadata": {},
   "outputs": [],
   "source": [
    "# Use the following line to install geeet if needed:\n",
    "#!pip install git+https://github.com/kaust-halo/geeet\n",
    "import ee\n",
    "#ee.Authenticate() # Uncomment if using Google Colab or first time using EE on this device. \n",
    "ee.Initialize()"
   ]
  },
  {
   "cell_type": "code",
   "execution_count": 2,
   "metadata": {},
   "outputs": [],
   "source": [
    "import geeet\n",
    "from geeet.eepredefined import landsat\n",
    "\n",
    "region = dict(type=\"Point\", coordinates=[38.25, 30.25])\n",
    "\n",
    "# Define a custom workflow (TSEB model + LE extrapolation)\n",
    "workflow = [\n",
    "    geeet.tseb.tseb_series,\n",
    "    landsat.extrapolate_LE    # this adds the \"ET\" band, in mm/day\n",
    "]\n",
    "\n",
    "landsat_era5_tseb_collection = landsat.mapped_collection(\n",
    "    workflow,\n",
    "    date_start = \"2023-04-01\",\n",
    "    date_end = \"2023-05-01\",\n",
    "    region = region, \n",
    "    era5 = True\n",
    ")"
   ]
  },
  {
   "cell_type": "code",
   "execution_count": 3,
   "metadata": {},
   "outputs": [
    {
     "data": {
      "text/plain": [
       "['SR_B1',\n",
       " 'SR_B2',\n",
       " 'SR_B3',\n",
       " 'SR_B4',\n",
       " 'SR_B5',\n",
       " 'SR_B7',\n",
       " 'SR_ATMOS_OPACITY',\n",
       " 'SR_CLOUD_QA',\n",
       " 'ST_B6',\n",
       " 'ST_ATRAN',\n",
       " 'ST_CDIST',\n",
       " 'ST_DRAD',\n",
       " 'ST_EMIS',\n",
       " 'ST_EMSD',\n",
       " 'ST_QA',\n",
       " 'ST_TRAD',\n",
       " 'ST_URAD',\n",
       " 'QA_PIXEL',\n",
       " 'QA_RADSAT',\n",
       " 'NDVI',\n",
       " 'albedo',\n",
       " 'radiometric_temperature',\n",
       " 'cloud_cover',\n",
       " 'surface_pressure',\n",
       " 'air_temperature',\n",
       " 'dewpoint_temperature',\n",
       " 'u_component_of_wind_10m',\n",
       " 'v_component_of_wind_10m',\n",
       " 'surface_solar_radiation_downwards_hourly',\n",
       " 'surface_thermal_radiation_downwards_hourly',\n",
       " 'wind_speed',\n",
       " 'solar_radiation',\n",
       " 'thermal_radiation',\n",
       " 'Tc',\n",
       " 'Ts',\n",
       " 'Tac',\n",
       " 'Hc',\n",
       " 'Hs',\n",
       " 'LEc',\n",
       " 'LEs',\n",
       " 'Ra',\n",
       " 'Rs',\n",
       " 'Rx',\n",
       " 'Ustar',\n",
       " 'alphaPT',\n",
       " 'iteration',\n",
       " 'LE',\n",
       " 'H',\n",
       " 'G',\n",
       " 'Rn',\n",
       " 'Rns',\n",
       " 'Rnc',\n",
       " 'ET']"
      ]
     },
     "execution_count": 3,
     "metadata": {},
     "output_type": "execute_result"
    }
   ],
   "source": [
    "landsat_era5_tseb_collection.first().bandNames().getInfo()"
   ]
  },
  {
   "cell_type": "markdown",
   "metadata": {},
   "source": [
    "We can see that this image also contains the \"ET\" band."
   ]
  }
 ],
 "metadata": {
  "kernelspec": {
   "display_name": "Python 3",
   "language": "python",
   "name": "python3"
  },
  "language_info": {
   "codemirror_mode": {
    "name": "ipython",
    "version": 3
   },
   "file_extension": ".py",
   "mimetype": "text/x-python",
   "name": "python",
   "nbconvert_exporter": "python",
   "pygments_lexer": "ipython3",
   "version": "3.12.2"
  }
 },
 "nbformat": 4,
 "nbformat_minor": 2
}
