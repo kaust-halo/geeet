{
  "cells": [
    {
      "cell_type": "markdown",
      "metadata": {},
      "source": [
        "<a href=\"https://githubtocolab.com/kaust-halo/geeet/blob/master/examples/notebooks/03_eepredefined_landsat_era5.ipynb\" target=\"_parent\"><img src=\"https://colab.research.google.com/assets/colab-badge.svg\" alt=\"Open in Colab\"/></a>"
      ]
    },
    {
      "cell_type": "markdown",
      "metadata": {
        "id": "LAZiVi13zTE7"
      },
      "source": [
        "# EE predefined: Landsat + ERA5 image collection\n",
        "\n",
        "---\n",
        "\n",
        "The `geeet.eepredefined` library contains a collection of modules that make it easy to ingest GEE data into the geeet models. \n",
        "\n",
        "This notebook demonstrates how to:\n",
        "\n",
        "1. Prepare a [merged Landsat collection](#landsat-collection-02) (Landsat 7, 8, and 9) \n",
        "2. Prepare a [joint Landsat + ERA5](#era5-climate-reanalysis-data) (climate reanalysis) image collection\n",
        "3. Map the Landsat + ERA5 collection [into an ET model](#landsat--era5--tseb) "
      ]
    },
    {
      "cell_type": "code",
      "execution_count": null,
      "metadata": {},
      "outputs": [],
      "source": [
        "# Use the following line to install geeet if needed:\n",
        "#!pip install git+https://github.com/kaust-halo/geeet\n",
        "# Use the following line to install geemap if needed:\n",
        "#!pip install geemap\n",
        "import ee\n",
        "#ee.Authenticate() # Uncomment if using Google Colab or first time using EE on this device. \n",
        "ee.Initialize()"
      ]
    },
    {
      "cell_type": "markdown",
      "metadata": {},
      "source": [
        "## Landsat collection 02\n",
        "\n",
        "Prepare a merged Landsat (Collection 02) surface reflectance image collection using `landsat.collection`.\n",
        "\n",
        "All surface reflectance (`SR_*`) and temperature (`ST_*`) bands are scaled and offset. The collection is also filtered by:\n",
        "\n",
        "- date: using `date_start` and `date_end` \n",
        "- bounds: using `region` (could be a dict, string indicating an asset, local shapefile/geojson, or a [geopandas.GeoDataFrame](https://geopandas.org/en/stable/docs/reference/api/geopandas.GeoDataFrame.html))"
      ]
    },
    {
      "cell_type": "code",
      "execution_count": null,
      "metadata": {},
      "outputs": [],
      "source": [
        "import geeet\n",
        "from geeet.eepredefined import landsat\n",
        "\n",
        "region = dict(type=\"Point\", coordinates=[38.25, 30.25])\n",
        "\n",
        "coll =  landsat.collection(\n",
        "    date_start = \"2023-04-01\",\n",
        "    date_end = \"2023-05-01\",\n",
        "    region = region, \n",
        ")"
      ]
    },
    {
      "cell_type": "markdown",
      "metadata": {},
      "source": [
        "Other filters in `landsat.collection` include: \n",
        "\n",
        "- Maximum cloud cover: Only include images with `CLOUD_COVER` less than or equal to `max_cc`. Use `max_cc` to set this value.  \n",
        "- Explicitly exclude path/rows: Use `exclude_pr` to explicitly exclude a list of path/rows (e.g. `exclude_pr=[[171,39]]` will exclude images in the path/row 171/39). \n",
        "- Explicitly limit images to a list of path/rows: Use `include_pr` to filter the collection to *only* include images within a list of path/rows.\n",
        "- Include *only* images from `sat_list`, which may be a **non-empty** subset of `[\"LANDSAT_7\", \"LANDSAT_8\", \"LANDSAT_9\"]`. Defaults to using all three collections. \n",
        "\n",
        "> Since the collections are merged, the `system:index` loses its original value. However, you can still find in in a new `LANDSAT_INDEX` property:"
      ]
    },
    {
      "cell_type": "code",
      "execution_count": null,
      "metadata": {},
      "outputs": [],
      "source": [
        "coll.aggregate_array(\"LANDSAT_INDEX\").getInfo()"
      ]
    },
    {
      "cell_type": "markdown",
      "metadata": {},
      "source": [
        "All other properties and original band names remain intact:"
      ]
    },
    {
      "cell_type": "code",
      "execution_count": null,
      "metadata": {},
      "outputs": [],
      "source": [
        "coll.first().bandNames().getInfo()"
      ]
    },
    {
      "cell_type": "markdown",
      "metadata": {},
      "source": [
        "Note however, that by default four new bands were added. These are:\n",
        "\n",
        "- `NDVI` (normalized difference vegetation index): calculated using the corresponding NIR and red bands. Use `ndvi=False` to exclude this band.\n",
        "- `albedo`: calculated using one of two parameterizations ([Liang, 2001](https://www.sciencedirect.com/science/article/pii/S0034425700002054) by default). Use `albedo=None` to exclude this band. \n",
        "- `radiometric_temperature`: This is a copy of either the `ST_B6` (Landsat 7) or `ST_10` band (Landsat 8 and 9). Use `rad_temp=False` to exclude this band.\n",
        "- `cloud_cover`: A byte band indicating 1 for pixels identified as cloud/cloud shadows, and 0 otherwise. Use `cfmask=False` to exclude this band. \n",
        "\n",
        "> The images are *not* masked using `cloud_cover`. However, you can use the helper function `landsat.cfmask` to update the mask of the desired bands to mask. \n",
        "\n",
        "Other optional bands include:\n",
        "\n",
        "- lai: Leaf area index; calculated using one of two methods. By default `lai=None`. "
      ]
    },
    {
      "cell_type": "markdown",
      "metadata": {
        "id": "a69CuP5Q6OI7"
      },
      "source": [
        "## ERA5 climate reanalysis data\n",
        "\n",
        "*geeet.eepredefined* also includes some tools to work with [ERA5 climate reanalysis](https://developers.google.com/earth-engine/datasets/catalog/ECMWF_ERA5_LAND_HOURLY#bands) data, specifically the `LAND_HOURLY` product. \n",
        "\n",
        "The `landsat.collection` tool also includes an option to include this data, specifically adding the following bands:\n",
        "\n",
        "- `surface_pressure`: surface pressure, in Pa\n",
        "- `air_temperature`: air temperature, in K\n",
        "- `wind_speed`: wind speed, in m/s (also included are the `u` and `v` components as separate bands).\n",
        "- `solar_radiation`: downward shortwave radiation, in W/m² (also included is the hourly accumulated radiation (`surface_solar_radiation_downwards_hourly`) band, in J/m²).\n",
        "- `thermal_radiation`: downward longwave radiation, in W/m² (also included is the hourly accumulated radiation (`surface_thermal_radiation_downwards_hourly`) band, in J/m²)."
      ]
    },
    {
      "cell_type": "code",
      "execution_count": null,
      "metadata": {},
      "outputs": [],
      "source": [
        "coll_with_era5 = landsat.collection(\n",
        "    date_start = \"2023-04-01\",\n",
        "    date_end = \"2023-05-01\",\n",
        "    region = region, \n",
        "    era5 = True,\n",
        "    timeZone=\"Asia/Riyadh\" # the time property will be set in local time (UTC +3 for this example)\n",
        ")\n",
        "coll_with_era5.first().bandNames().getInfo()"
      ]
    },
    {
      "cell_type": "markdown",
      "metadata": {},
      "source": [
        "## Landsat + ERA5 + TSEB"
      ]
    },
    {
      "cell_type": "markdown",
      "metadata": {},
      "source": [
        "This collection is ready to be mapped to an ET model:"
      ]
    },
    {
      "cell_type": "code",
      "execution_count": null,
      "metadata": {},
      "outputs": [],
      "source": [
        "landsat_era5_tseb_collection = coll_with_era5.map(geeet.tseb.tseb_series)"
      ]
    },
    {
      "cell_type": "code",
      "execution_count": null,
      "metadata": {},
      "outputs": [],
      "source": [
        "landsat_era5_tseb_collection.first().bandNames().getInfo()"
      ]
    },
    {
      "cell_type": "markdown",
      "metadata": {},
      "source": [
        "You can see now that the ET model outputs have been added as additional bands. \n",
        "\n",
        "You can also use the `landsat.mapped_collection` helper function to map a sequence of functions to a `landsat.collection`, e.g. the example above would become:\n",
        "\n",
        "```python\n",
        "landsat_era5_tseb_collection = landsat.mapped_collection(\n",
        "    [geeet.tseb.tseb_series],    # List of mappable functions, here only tseb. \n",
        "    date_start = \"2023-04-01\",\n",
        "    date_end = \"2023-05-01\",\n",
        "    region = region, \n",
        "    era5 = True, \n",
        "    timeZone = \"Asia/Riyadh\"\n",
        ")\n",
        "```"
      ]
    },
    {
      "cell_type": "markdown",
      "metadata": {},
      "source": [
        "\n",
        "## Visualization\n",
        "\n",
        "Let's generate a small visualization by clipping one of the images to a small region. \n",
        "\n",
        "> You will need [geemap](geemap.org) for this visualization. Alternatively, open [this script in the code editor](https://code.earthengine.google.com/f71913e4516d36de0da2c0bce4f03d39). "
      ]
    },
    {
      "cell_type": "code",
      "execution_count": null,
      "metadata": {},
      "outputs": [],
      "source": [
        "import geemap\n",
        "import geemap.colormaps as cm\n",
        "\n",
        "# Select one image by LANDSAT_INDEX: \n",
        "image = (\n",
        "    landsat_era5_tseb_collection\n",
        "    .filter(ee.Filter.eq(\"LANDSAT_INDEX\", \n",
        "    \"LC09_172039_20230421\"\n",
        "    ))\n",
        "    .first()\n",
        "    .clip(ee.Geometry(region)\n",
        "        .buffer(10000)   # 10km area around the point\n",
        "        .bounds()        \n",
        "    )\n",
        ")\n",
        "\n",
        "Map = geemap.Map()\n",
        "Map.setCenter(*region[\"coordinates\"], zoom=12)\n",
        "ndvi_pal = cm.palettes.ndvi\n",
        "red_pal = cm.palettes.YlOrRd\n",
        "blue_pal = cm.palettes.YlGnBu\n",
        "\n",
        "Map.addLayer(image, {'bands':['SR_B4', 'SR_B3', 'SR_B2'], 'min':0, 'max': 0.3}, 'Image')\n",
        "Map.addLayer(image.select('albedo'), {'min':0, 'max':0.35}, 'Albedo (shortwave; Liang 2001)', False)\n",
        "Map.addLayer(image.select('NDVI'), {'min':0, 'max':1, 'palette':ndvi_pal, 'opacity': 0.8}, 'NDVI')\n",
        "Map.addLayer(image.select('radiometric_temperature'), {'min':20+273, 'max':50+273, 'palette':red_pal}, 'Landsat radiometric temperature (K)')\n",
        "Map.addLayer(image.select('Rn'), {'min':0, 'max':500, 'palette':red_pal}, 'Net radiation (W/m²)', False)\n",
        "Map.addLayer(image.select('LEc'), {'min':0, 'max':300, 'palette':blue_pal}, 'Latent heat flux (W/m²) from the canopy source', True)\n",
        "\n",
        "Map"
      ]
    },
    {
      "cell_type": "markdown",
      "metadata": {},
      "source": [
        "Here's a preview of how the map should look like:\n",
        "\n",
        "![image](https://github.com/kaust-halo/geeet/assets/14804652/8379c468-1264-47ff-bdfb-89a7f9d8f61b)"
      ]
    },
    {
      "cell_type": "markdown",
      "metadata": {
        "id": "Y4ydf3BzJZ40"
      },
      "source": [
        "## Export\n",
        "\n",
        "This cell was used to export the image as an asset. "
      ]
    },
    {
      "cell_type": "code",
      "execution_count": null,
      "metadata": {
        "id": "35-T8FN0Jnps"
      },
      "outputs": [],
      "source": [
        "asset_id =  \"\"  # replace with your asset\n",
        "\n",
        "roi = (ee.Geometry(region)\n",
        "        .buffer(10000)   # 10km area around the point\n",
        "        .bounds()        \n",
        ")\n",
        "task = ee.batch.Export.image.toAsset(image=image,\n",
        "                                     description='landsat-era5-sample',\n",
        "                                     assetId=asset_id,\n",
        "                                     region=roi,\n",
        "                                     crs=\"EPSG:32637\",\n",
        "                                     crsTransform=[30,0,296685,0,-30,3470115],\n",
        "                                     )\n",
        "#task.start() # Uncomment to submit the task."
      ]
    }
  ],
  "metadata": {
    "colab": {
      "collapsed_sections": [],
      "name": "prep_ECMWF_L8_for_TSEB.ipynb",
      "provenance": [],
      "toc_visible": true
    },
    "kernelspec": {
      "display_name": "Python 3",
      "name": "python3"
    },
    "language_info": {
      "codemirror_mode": {
        "name": "ipython",
        "version": 3
      },
      "file_extension": ".py",
      "mimetype": "text/x-python",
      "name": "python",
      "nbconvert_exporter": "python",
      "pygments_lexer": "ipython3",
      "version": "3.12.2"
    },
    "widgets": {
      "application/vnd.jupyter.widget-state+json": {
        "1e79c3779eab46a4a00255f0523c1b0f": {
          "model_module": "jupyter-leaflet",
          "model_module_version": "^0.14.0",
          "model_name": "LeafletMapModel",
          "state": {
            "_dom_classes": [],
            "_model_module": "jupyter-leaflet",
            "_model_module_version": "^0.14.0",
            "_model_name": "LeafletMapModel",
            "_view_count": null,
            "_view_module": "jupyter-leaflet",
            "_view_module_version": "^0.14.0",
            "_view_name": "LeafletMapView",
            "bottom": 432075,
            "bounce_at_zoom_limits": true,
            "box_zoom": true,
            "center": [
              30.24987381568076,
              38.24975967407227
            ],
            "close_popup_on_click": true,
            "controls": [
              "IPY_MODEL_479b7a88c9e64d42bc4b4e7464348940",
              "IPY_MODEL_b662fec6e1d147478a52e2f43e862241",
              "IPY_MODEL_c6afa6eb8d6e45f7b2d7e1b3c6998c72",
              "IPY_MODEL_e4f1e13d3bb64a058f8300c32e71df52",
              "IPY_MODEL_f1ce2c67835848bab221d6a18d9db73d",
              "IPY_MODEL_58f89152dad74adaa8e6d9cb4341a705",
              "IPY_MODEL_702dc6431d434260af18cdc0736e0421",
              "IPY_MODEL_91574302c65d43bab45958fde7877cb1"
            ],
            "crs": {
              "custom": false,
              "name": "EPSG3857"
            },
            "default_style": "IPY_MODEL_a63139a41342488388c90417dceb739a",
            "double_click_zoom": true,
            "dragging": true,
            "dragging_style": "IPY_MODEL_51ba5c25854f42be9cd6632a61d5fdd7",
            "east": 38.406486511230476,
            "fullscreen": false,
            "inertia": true,
            "inertia_deceleration": 3000,
            "inertia_max_speed": 1500,
            "interpolation": "bilinear",
            "keyboard": true,
            "keyboard_pan_offset": 80,
            "keyboard_zoom_offset": 1,
            "layers": [
              "IPY_MODEL_609ce1eb627a427397fdfdfa4c700a36",
              "IPY_MODEL_7bc327b746654d7db67489a39454fb23",
              "IPY_MODEL_d9ccf2a1a45140fc8a257dff6f2ab5bb",
              "IPY_MODEL_e056361e750244cb893d57696d91d163",
              "IPY_MODEL_6137897b58e44484bb1564cfa3134be1",
              "IPY_MODEL_962bc2c358d147908c1309b7dfca7464",
              "IPY_MODEL_7b7fe34b5c7b44e5976e68c0295bb075",
              "IPY_MODEL_cdeb422e16244e23ad4b5c18e0789a0a",
              "IPY_MODEL_cb759dd95e864576921fd44edffcd18f"
            ],
            "layout": "IPY_MODEL_d9dd7321b79f4b9fbb642d7463476339",
            "left": 635242,
            "max_zoom": 24,
            "min_zoom": 1,
            "modisdate": "yesterday",
            "north": 30.338805935152212,
            "options": [
              "bounce_at_zoom_limits",
              "box_zoom",
              "center",
              "close_popup_on_click",
              "double_click_zoom",
              "dragging",
              "fullscreen",
              "inertia",
              "inertia_deceleration",
              "inertia_max_speed",
              "interpolation",
              "keyboard",
              "keyboard_pan_offset",
              "keyboard_zoom_offset",
              "max_zoom",
              "min_zoom",
              "scroll_wheel_zoom",
              "tap",
              "tap_tolerance",
              "touch_zoom",
              "world_copy_jump",
              "zoom",
              "zoom_animation_threshold",
              "zoom_delta",
              "zoom_snap",
              "zoom_start"
            ],
            "right": 636155,
            "scroll_wheel_zoom": true,
            "south": 30.160861123059224,
            "style": "IPY_MODEL_a63139a41342488388c90417dceb739a",
            "tap": true,
            "tap_tolerance": 15,
            "top": 431475,
            "touch_zoom": true,
            "west": 38.09303283691407,
            "window_url": "https://sy81tlffkfa-496ff2e9c6d22116-0-colab.googleusercontent.com/outputframe.html?vrz=colab-20211202-060056-RC00_413642081",
            "world_copy_jump": false,
            "zoom": 12,
            "zoom_animation_threshold": 4,
            "zoom_delta": 1,
            "zoom_snap": 1,
            "zoom_start": 12
          }
        },
        "3094d7502de6432b9371ed8c17be5c52": {
          "model_module": "@jupyter-widgets/controls",
          "model_module_version": "1.5.0",
          "model_name": "HBoxModel",
          "state": {
            "_dom_classes": [],
            "_model_module": "@jupyter-widgets/controls",
            "_model_module_version": "1.5.0",
            "_model_name": "HBoxModel",
            "_view_count": null,
            "_view_module": "@jupyter-widgets/controls",
            "_view_module_version": "1.5.0",
            "_view_name": "HBoxView",
            "box_style": "",
            "children": [
              "IPY_MODEL_59ad42338b1f4830b7c5531f4f9e2659"
            ],
            "layout": "IPY_MODEL_975a531dbbd2463fa8ceaaad08e2b478"
          }
        },
        "3a9320c4683745e3b620c58fc1779f53": {
          "model_module": "@jupyter-widgets/base",
          "model_module_version": "1.2.0",
          "model_name": "LayoutModel",
          "state": {
            "_model_module": "@jupyter-widgets/base",
            "_model_module_version": "1.2.0",
            "_model_name": "LayoutModel",
            "_view_count": null,
            "_view_module": "@jupyter-widgets/base",
            "_view_module_version": "1.2.0",
            "_view_name": "LayoutView",
            "align_content": null,
            "align_items": null,
            "align_self": null,
            "border": null,
            "bottom": null,
            "display": null,
            "flex": null,
            "flex_flow": null,
            "grid_area": null,
            "grid_auto_columns": null,
            "grid_auto_flow": null,
            "grid_auto_rows": null,
            "grid_column": null,
            "grid_gap": null,
            "grid_row": null,
            "grid_template_areas": null,
            "grid_template_columns": null,
            "grid_template_rows": null,
            "height": "28px",
            "justify_content": null,
            "justify_items": null,
            "left": null,
            "margin": null,
            "max_height": null,
            "max_width": null,
            "min_height": null,
            "min_width": null,
            "object_fit": null,
            "object_position": null,
            "order": null,
            "overflow": null,
            "overflow_x": null,
            "overflow_y": null,
            "padding": "0px 0px 0px 4px",
            "right": null,
            "top": null,
            "visibility": null,
            "width": "28px"
          }
        },
        "479b7a88c9e64d42bc4b4e7464348940": {
          "model_module": "jupyter-leaflet",
          "model_module_version": "^0.14.0",
          "model_name": "LeafletWidgetControlModel",
          "state": {
            "_model_module": "jupyter-leaflet",
            "_model_module_version": "^0.14.0",
            "_model_name": "LeafletWidgetControlModel",
            "_view_count": null,
            "_view_module": "jupyter-leaflet",
            "_view_module_version": "^0.14.0",
            "_view_name": "LeafletWidgetControlView",
            "max_height": null,
            "max_width": null,
            "min_height": null,
            "min_width": null,
            "options": [
              "position",
              "transparent_bg"
            ],
            "position": "topleft",
            "transparent_bg": false,
            "widget": "IPY_MODEL_3094d7502de6432b9371ed8c17be5c52"
          }
        },
        "4d472d0ce9cf401e966c15649f40c8a0": {
          "model_module": "@jupyter-widgets/base",
          "model_module_version": "1.2.0",
          "model_name": "LayoutModel",
          "state": {
            "_model_module": "@jupyter-widgets/base",
            "_model_module_version": "1.2.0",
            "_model_name": "LayoutModel",
            "_view_count": null,
            "_view_module": "@jupyter-widgets/base",
            "_view_module_version": "1.2.0",
            "_view_name": "LayoutView",
            "align_content": null,
            "align_items": null,
            "align_self": null,
            "border": null,
            "bottom": null,
            "display": null,
            "flex": null,
            "flex_flow": null,
            "grid_area": null,
            "grid_auto_columns": null,
            "grid_auto_flow": null,
            "grid_auto_rows": null,
            "grid_column": null,
            "grid_gap": null,
            "grid_row": null,
            "grid_template_areas": null,
            "grid_template_columns": null,
            "grid_template_rows": null,
            "height": null,
            "justify_content": null,
            "justify_items": null,
            "left": null,
            "margin": null,
            "max_height": null,
            "max_width": null,
            "min_height": null,
            "min_width": null,
            "object_fit": null,
            "object_position": null,
            "order": null,
            "overflow": null,
            "overflow_x": null,
            "overflow_y": null,
            "padding": null,
            "right": null,
            "top": null,
            "visibility": null,
            "width": null
          }
        },
        "51ba5c25854f42be9cd6632a61d5fdd7": {
          "model_module": "jupyter-leaflet",
          "model_module_version": "^0.14.0",
          "model_name": "LeafletMapStyleModel",
          "state": {
            "_model_module": "jupyter-leaflet",
            "_model_module_version": "^0.14.0",
            "_model_name": "LeafletMapStyleModel",
            "_view_count": null,
            "_view_module": "@jupyter-widgets/base",
            "_view_module_version": "1.2.0",
            "_view_name": "StyleView",
            "cursor": "move"
          }
        },
        "544b1639940a4a78ae706b25ce0bf191": {
          "model_module": "jupyter-leaflet",
          "model_module_version": "^0.14.0",
          "model_name": "LeafletMapStyleModel",
          "state": {
            "_model_module": "jupyter-leaflet",
            "_model_module_version": "^0.14.0",
            "_model_name": "LeafletMapStyleModel",
            "_view_count": null,
            "_view_module": "@jupyter-widgets/base",
            "_view_module_version": "1.2.0",
            "_view_name": "StyleView",
            "cursor": "grab"
          }
        },
        "58f89152dad74adaa8e6d9cb4341a705": {
          "model_module": "jupyter-leaflet",
          "model_module_version": "^0.14.0",
          "model_name": "LeafletAttributionControlModel",
          "state": {
            "_model_module": "jupyter-leaflet",
            "_model_module_version": "^0.14.0",
            "_model_name": "LeafletAttributionControlModel",
            "_view_count": null,
            "_view_module": "jupyter-leaflet",
            "_view_module_version": "^0.14.0",
            "_view_name": "LeafletAttributionControlView",
            "options": [
              "position",
              "prefix"
            ],
            "position": "bottomright",
            "prefix": "ipyleaflet"
          }
        },
        "59ad42338b1f4830b7c5531f4f9e2659": {
          "model_module": "@jupyter-widgets/controls",
          "model_module_version": "1.5.0",
          "model_name": "ToggleButtonModel",
          "state": {
            "_dom_classes": [],
            "_model_module": "@jupyter-widgets/controls",
            "_model_module_version": "1.5.0",
            "_model_name": "ToggleButtonModel",
            "_view_count": null,
            "_view_module": "@jupyter-widgets/controls",
            "_view_module_version": "1.5.0",
            "_view_name": "ToggleButtonView",
            "button_style": "",
            "description": "",
            "description_tooltip": null,
            "disabled": false,
            "icon": "globe",
            "layout": "IPY_MODEL_3a9320c4683745e3b620c58fc1779f53",
            "style": "IPY_MODEL_8006300a18f74046b68eb2a5aba0ff63",
            "tooltip": "Search location/data",
            "value": false
          }
        },
        "5e30cbb3d4414bd7b9cd389132311f6d": {
          "model_module": "@jupyter-widgets/controls",
          "model_module_version": "1.5.0",
          "model_name": "VBoxModel",
          "state": {
            "_dom_classes": [],
            "_model_module": "@jupyter-widgets/controls",
            "_model_module_version": "1.5.0",
            "_model_name": "VBoxModel",
            "_view_count": null,
            "_view_module": "@jupyter-widgets/controls",
            "_view_module_version": "1.5.0",
            "_view_name": "VBoxView",
            "box_style": "",
            "children": [
              "IPY_MODEL_8ac76840dcb449b2984413cc0b54a36a"
            ],
            "layout": "IPY_MODEL_4d472d0ce9cf401e966c15649f40c8a0"
          }
        },
        "609ce1eb627a427397fdfdfa4c700a36": {
          "model_module": "jupyter-leaflet",
          "model_module_version": "^0.14.0",
          "model_name": "LeafletTileLayerModel",
          "state": {
            "_model_module": "jupyter-leaflet",
            "_model_module_version": "^0.14.0",
            "_model_name": "LeafletTileLayerModel",
            "_view_count": null,
            "_view_module": "jupyter-leaflet",
            "_view_module_version": "^0.14.0",
            "_view_name": "LeafletTileLayerView",
            "attribution": "Map data (c) <a href=\"https://openstreetmap.org\">OpenStreetMap</a> contributors",
            "base": true,
            "bottom": true,
            "detect_retina": false,
            "loading": false,
            "max_native_zoom": 18,
            "max_zoom": 19,
            "min_native_zoom": 0,
            "min_zoom": 1,
            "name": "",
            "no_wrap": false,
            "opacity": 1,
            "options": [
              "attribution",
              "detect_retina",
              "max_native_zoom",
              "max_zoom",
              "min_native_zoom",
              "min_zoom",
              "no_wrap",
              "tile_size",
              "tms"
            ],
            "popup": null,
            "popup_max_height": null,
            "popup_max_width": 300,
            "popup_min_width": 50,
            "show_loading": false,
            "tile_size": 256,
            "tms": false,
            "url": "https://{s}.tile.openstreetmap.org/{z}/{x}/{y}.png",
            "visible": true
          }
        },
        "6137897b58e44484bb1564cfa3134be1": {
          "model_module": "jupyter-leaflet",
          "model_module_version": "^0.14.0",
          "model_name": "LeafletTileLayerModel",
          "state": {
            "_model_module": "jupyter-leaflet",
            "_model_module_version": "^0.14.0",
            "_model_name": "LeafletTileLayerModel",
            "_view_count": null,
            "_view_module": "jupyter-leaflet",
            "_view_module_version": "^0.14.0",
            "_view_name": "LeafletTileLayerView",
            "attribution": "Google Earth Engine",
            "base": false,
            "bottom": true,
            "detect_retina": false,
            "loading": false,
            "max_native_zoom": 18,
            "max_zoom": 24,
            "min_native_zoom": 0,
            "min_zoom": 0,
            "name": "ECMWF Surface pressure (Pa)",
            "no_wrap": false,
            "opacity": 1,
            "options": [
              "attribution",
              "detect_retina",
              "max_native_zoom",
              "max_zoom",
              "min_native_zoom",
              "min_zoom",
              "no_wrap",
              "tile_size",
              "tms"
            ],
            "popup": null,
            "popup_max_height": null,
            "popup_max_width": 300,
            "popup_min_width": 50,
            "show_loading": false,
            "tile_size": 256,
            "tms": false,
            "url": "https://earthengine.googleapis.com/v1alpha/projects/earthengine-legacy/maps/1b4f99f9de5e621b217cefa264d6e6d1-463f704596aed88599e9ccd7241742f7/tiles/{z}/{x}/{y}",
            "visible": false
          }
        },
        "702dc6431d434260af18cdc0736e0421": {
          "model_module": "jupyter-leaflet",
          "model_module_version": "^0.14.0",
          "model_name": "LeafletDrawControlModel",
          "state": {
            "_model_module": "jupyter-leaflet",
            "_model_module_version": "^0.14.0",
            "_model_name": "LeafletDrawControlModel",
            "_view_count": null,
            "_view_module": "jupyter-leaflet",
            "_view_module_version": "^0.14.0",
            "_view_name": "LeafletDrawControlView",
            "circle": {
              "shapeOptions": {
                "color": "#3388ff"
              }
            },
            "circlemarker": {},
            "data": [],
            "edit": true,
            "marker": {
              "shapeOptions": {
                "color": "#3388ff"
              }
            },
            "options": [
              "position"
            ],
            "polygon": {
              "shapeOptions": {}
            },
            "polyline": {
              "shapeOptions": {}
            },
            "position": "topleft",
            "rectangle": {
              "shapeOptions": {
                "color": "#3388ff"
              }
            },
            "remove": true
          }
        },
        "7b7fe34b5c7b44e5976e68c0295bb075": {
          "model_module": "jupyter-leaflet",
          "model_module_version": "^0.14.0",
          "model_name": "LeafletTileLayerModel",
          "state": {
            "_model_module": "jupyter-leaflet",
            "_model_module_version": "^0.14.0",
            "_model_name": "LeafletTileLayerModel",
            "_view_count": null,
            "_view_module": "jupyter-leaflet",
            "_view_module_version": "^0.14.0",
            "_view_name": "LeafletTileLayerView",
            "attribution": "Google Earth Engine",
            "base": false,
            "bottom": true,
            "detect_retina": false,
            "loading": false,
            "max_native_zoom": 18,
            "max_zoom": 24,
            "min_native_zoom": 0,
            "min_zoom": 0,
            "name": "Albedo (shortwave; Liang 2000)",
            "no_wrap": false,
            "opacity": 1,
            "options": [
              "attribution",
              "detect_retina",
              "max_native_zoom",
              "max_zoom",
              "min_native_zoom",
              "min_zoom",
              "no_wrap",
              "tile_size",
              "tms"
            ],
            "popup": null,
            "popup_max_height": null,
            "popup_max_width": 300,
            "popup_min_width": 50,
            "show_loading": false,
            "tile_size": 256,
            "tms": false,
            "url": "https://earthengine.googleapis.com/v1alpha/projects/earthengine-legacy/maps/a04a69e65cc3482c27d75b9e3325378d-e318e0fb47b4ede2d4f39bb8b8bdf0e3/tiles/{z}/{x}/{y}",
            "visible": false
          }
        },
        "7bc327b746654d7db67489a39454fb23": {
          "model_module": "jupyter-leaflet",
          "model_module_version": "^0.14.0",
          "model_name": "LeafletTileLayerModel",
          "state": {
            "_model_module": "jupyter-leaflet",
            "_model_module_version": "^0.14.0",
            "_model_name": "LeafletTileLayerModel",
            "_view_count": null,
            "_view_module": "jupyter-leaflet",
            "_view_module_version": "^0.14.0",
            "_view_name": "LeafletTileLayerView",
            "attribution": "Google",
            "base": false,
            "bottom": true,
            "detect_retina": false,
            "loading": false,
            "max_native_zoom": 18,
            "max_zoom": 24,
            "min_native_zoom": 0,
            "min_zoom": 0,
            "name": "Google Maps",
            "no_wrap": false,
            "opacity": 1,
            "options": [
              "attribution",
              "detect_retina",
              "max_native_zoom",
              "max_zoom",
              "min_native_zoom",
              "min_zoom",
              "no_wrap",
              "tile_size",
              "tms"
            ],
            "popup": null,
            "popup_max_height": null,
            "popup_max_width": 300,
            "popup_min_width": 50,
            "show_loading": false,
            "tile_size": 256,
            "tms": false,
            "url": "https://mt1.google.com/vt/lyrs=m&x={x}&y={y}&z={z}",
            "visible": true
          }
        },
        "8006300a18f74046b68eb2a5aba0ff63": {
          "model_module": "@jupyter-widgets/controls",
          "model_module_version": "1.5.0",
          "model_name": "DescriptionStyleModel",
          "state": {
            "_model_module": "@jupyter-widgets/controls",
            "_model_module_version": "1.5.0",
            "_model_name": "DescriptionStyleModel",
            "_view_count": null,
            "_view_module": "@jupyter-widgets/base",
            "_view_module_version": "1.2.0",
            "_view_name": "StyleView",
            "description_width": ""
          }
        },
        "89834291dc3c479aaab613426508dc8c": {
          "model_module": "@jupyter-widgets/controls",
          "model_module_version": "1.5.0",
          "model_name": "DescriptionStyleModel",
          "state": {
            "_model_module": "@jupyter-widgets/controls",
            "_model_module_version": "1.5.0",
            "_model_name": "DescriptionStyleModel",
            "_view_count": null,
            "_view_module": "@jupyter-widgets/base",
            "_view_module_version": "1.2.0",
            "_view_name": "StyleView",
            "description_width": ""
          }
        },
        "8ac76840dcb449b2984413cc0b54a36a": {
          "model_module": "@jupyter-widgets/controls",
          "model_module_version": "1.5.0",
          "model_name": "ToggleButtonModel",
          "state": {
            "_dom_classes": [],
            "_model_module": "@jupyter-widgets/controls",
            "_model_module_version": "1.5.0",
            "_model_name": "ToggleButtonModel",
            "_view_count": null,
            "_view_module": "@jupyter-widgets/controls",
            "_view_module_version": "1.5.0",
            "_view_name": "ToggleButtonView",
            "button_style": "",
            "description": "",
            "description_tooltip": null,
            "disabled": false,
            "icon": "wrench",
            "layout": "IPY_MODEL_e9857e93409f49a6904b752cbcfbd6e3",
            "style": "IPY_MODEL_89834291dc3c479aaab613426508dc8c",
            "tooltip": "Toolbar",
            "value": false
          }
        },
        "91574302c65d43bab45958fde7877cb1": {
          "model_module": "jupyter-leaflet",
          "model_module_version": "^0.14.0",
          "model_name": "LeafletWidgetControlModel",
          "state": {
            "_model_module": "jupyter-leaflet",
            "_model_module_version": "^0.14.0",
            "_model_name": "LeafletWidgetControlModel",
            "_view_count": null,
            "_view_module": "jupyter-leaflet",
            "_view_module_version": "^0.14.0",
            "_view_name": "LeafletWidgetControlView",
            "max_height": null,
            "max_width": null,
            "min_height": null,
            "min_width": null,
            "options": [
              "position",
              "transparent_bg"
            ],
            "position": "topright",
            "transparent_bg": false,
            "widget": "IPY_MODEL_5e30cbb3d4414bd7b9cd389132311f6d"
          }
        },
        "962bc2c358d147908c1309b7dfca7464": {
          "model_module": "jupyter-leaflet",
          "model_module_version": "^0.14.0",
          "model_name": "LeafletTileLayerModel",
          "state": {
            "_model_module": "jupyter-leaflet",
            "_model_module_version": "^0.14.0",
            "_model_name": "LeafletTileLayerModel",
            "_view_count": null,
            "_view_module": "jupyter-leaflet",
            "_view_module_version": "^0.14.0",
            "_view_name": "LeafletTileLayerView",
            "attribution": "Google Earth Engine",
            "base": false,
            "bottom": true,
            "detect_retina": false,
            "loading": false,
            "max_native_zoom": 18,
            "max_zoom": 24,
            "min_native_zoom": 0,
            "min_zoom": 0,
            "name": "ECMWF wind speed (m/s)",
            "no_wrap": false,
            "opacity": 1,
            "options": [
              "attribution",
              "detect_retina",
              "max_native_zoom",
              "max_zoom",
              "min_native_zoom",
              "min_zoom",
              "no_wrap",
              "tile_size",
              "tms"
            ],
            "popup": null,
            "popup_max_height": null,
            "popup_max_width": 300,
            "popup_min_width": 50,
            "show_loading": false,
            "tile_size": 256,
            "tms": false,
            "url": "https://earthengine.googleapis.com/v1alpha/projects/earthengine-legacy/maps/74a47b69e7ba6d7ea63cfcc183c5b686-0ce706ea83207319c20a3f914e0ea51f/tiles/{z}/{x}/{y}",
            "visible": true
          }
        },
        "975a531dbbd2463fa8ceaaad08e2b478": {
          "model_module": "@jupyter-widgets/base",
          "model_module_version": "1.2.0",
          "model_name": "LayoutModel",
          "state": {
            "_model_module": "@jupyter-widgets/base",
            "_model_module_version": "1.2.0",
            "_model_name": "LayoutModel",
            "_view_count": null,
            "_view_module": "@jupyter-widgets/base",
            "_view_module_version": "1.2.0",
            "_view_name": "LayoutView",
            "align_content": null,
            "align_items": null,
            "align_self": null,
            "border": null,
            "bottom": null,
            "display": null,
            "flex": null,
            "flex_flow": null,
            "grid_area": null,
            "grid_auto_columns": null,
            "grid_auto_flow": null,
            "grid_auto_rows": null,
            "grid_column": null,
            "grid_gap": null,
            "grid_row": null,
            "grid_template_areas": null,
            "grid_template_columns": null,
            "grid_template_rows": null,
            "height": null,
            "justify_content": null,
            "justify_items": null,
            "left": null,
            "margin": null,
            "max_height": null,
            "max_width": null,
            "min_height": null,
            "min_width": null,
            "object_fit": null,
            "object_position": null,
            "order": null,
            "overflow": null,
            "overflow_x": null,
            "overflow_y": null,
            "padding": null,
            "right": null,
            "top": null,
            "visibility": null,
            "width": null
          }
        },
        "a63139a41342488388c90417dceb739a": {
          "model_module": "jupyter-leaflet",
          "model_module_version": "^0.14.0",
          "model_name": "LeafletMapStyleModel",
          "state": {
            "_model_module": "jupyter-leaflet",
            "_model_module_version": "^0.14.0",
            "_model_name": "LeafletMapStyleModel",
            "_view_count": null,
            "_view_module": "@jupyter-widgets/base",
            "_view_module_version": "1.2.0",
            "_view_name": "StyleView",
            "cursor": "grab"
          }
        },
        "b662fec6e1d147478a52e2f43e862241": {
          "model_module": "jupyter-leaflet",
          "model_module_version": "^0.14.0",
          "model_name": "LeafletZoomControlModel",
          "state": {
            "_model_module": "jupyter-leaflet",
            "_model_module_version": "^0.14.0",
            "_model_name": "LeafletZoomControlModel",
            "_view_count": null,
            "_view_module": "jupyter-leaflet",
            "_view_module_version": "^0.14.0",
            "_view_name": "LeafletZoomControlView",
            "options": [
              "position",
              "zoom_in_text",
              "zoom_in_title",
              "zoom_out_text",
              "zoom_out_title"
            ],
            "position": "topleft",
            "zoom_in_text": "+",
            "zoom_in_title": "Zoom in",
            "zoom_out_text": "-",
            "zoom_out_title": "Zoom out"
          }
        },
        "c6afa6eb8d6e45f7b2d7e1b3c6998c72": {
          "model_module": "jupyter-leaflet",
          "model_module_version": "^0.14.0",
          "model_name": "LeafletScaleControlModel",
          "state": {
            "_model_module": "jupyter-leaflet",
            "_model_module_version": "^0.14.0",
            "_model_name": "LeafletScaleControlModel",
            "_view_count": null,
            "_view_module": "jupyter-leaflet",
            "_view_module_version": "^0.14.0",
            "_view_name": "LeafletScaleControlView",
            "imperial": true,
            "max_width": 100,
            "metric": true,
            "options": [
              "imperial",
              "max_width",
              "metric",
              "position",
              "update_when_idle"
            ],
            "position": "bottomleft",
            "update_when_idle": false
          }
        },
        "cb759dd95e864576921fd44edffcd18f": {
          "model_module": "jupyter-leaflet",
          "model_module_version": "^0.14.0",
          "model_name": "LeafletTileLayerModel",
          "state": {
            "_model_module": "jupyter-leaflet",
            "_model_module_version": "^0.14.0",
            "_model_name": "LeafletTileLayerModel",
            "_view_count": null,
            "_view_module": "jupyter-leaflet",
            "_view_module_version": "^0.14.0",
            "_view_name": "LeafletTileLayerView",
            "attribution": "Google Earth Engine",
            "base": false,
            "bottom": true,
            "detect_retina": false,
            "loading": false,
            "max_native_zoom": 18,
            "max_zoom": 24,
            "min_native_zoom": 0,
            "min_zoom": 0,
            "name": "NDVI",
            "no_wrap": false,
            "opacity": 1,
            "options": [
              "attribution",
              "detect_retina",
              "max_native_zoom",
              "max_zoom",
              "min_native_zoom",
              "min_zoom",
              "no_wrap",
              "tile_size",
              "tms"
            ],
            "popup": null,
            "popup_max_height": null,
            "popup_max_width": 300,
            "popup_min_width": 50,
            "show_loading": false,
            "tile_size": 256,
            "tms": false,
            "url": "https://earthengine.googleapis.com/v1alpha/projects/earthengine-legacy/maps/b0bf7d3c45fb7fc685cf2b81a78deff8-1f8d3594fed80d78ed191f21bee2a467/tiles/{z}/{x}/{y}",
            "visible": true
          }
        },
        "cdeb422e16244e23ad4b5c18e0789a0a": {
          "model_module": "jupyter-leaflet",
          "model_module_version": "^0.14.0",
          "model_name": "LeafletTileLayerModel",
          "state": {
            "_model_module": "jupyter-leaflet",
            "_model_module_version": "^0.14.0",
            "_model_name": "LeafletTileLayerModel",
            "_view_count": null,
            "_view_module": "jupyter-leaflet",
            "_view_module_version": "^0.14.0",
            "_view_name": "LeafletTileLayerView",
            "attribution": "Google Earth Engine",
            "base": false,
            "bottom": true,
            "detect_retina": false,
            "loading": false,
            "max_native_zoom": 18,
            "max_zoom": 24,
            "min_native_zoom": 0,
            "min_zoom": 0,
            "name": "Landsat radiometric temperature (K)",
            "no_wrap": false,
            "opacity": 1,
            "options": [
              "attribution",
              "detect_retina",
              "max_native_zoom",
              "max_zoom",
              "min_native_zoom",
              "min_zoom",
              "no_wrap",
              "tile_size",
              "tms"
            ],
            "popup": null,
            "popup_max_height": null,
            "popup_max_width": 300,
            "popup_min_width": 50,
            "show_loading": false,
            "tile_size": 256,
            "tms": false,
            "url": "https://earthengine.googleapis.com/v1alpha/projects/earthengine-legacy/maps/fb701c49c0ba8e5f294172ef7f2c5e1f-adb8b908e3bc811428b2766876c4ecd1/tiles/{z}/{x}/{y}",
            "visible": true
          }
        },
        "d9ccf2a1a45140fc8a257dff6f2ab5bb": {
          "model_module": "jupyter-leaflet",
          "model_module_version": "^0.14.0",
          "model_name": "LeafletTileLayerModel",
          "state": {
            "_model_module": "jupyter-leaflet",
            "_model_module_version": "^0.14.0",
            "_model_name": "LeafletTileLayerModel",
            "_view_count": null,
            "_view_module": "jupyter-leaflet",
            "_view_module_version": "^0.14.0",
            "_view_name": "LeafletTileLayerView",
            "attribution": "Google Earth Engine",
            "base": false,
            "bottom": true,
            "detect_retina": false,
            "loading": false,
            "max_native_zoom": 18,
            "max_zoom": 24,
            "min_native_zoom": 0,
            "min_zoom": 0,
            "name": "L8_SR image",
            "no_wrap": false,
            "opacity": 1,
            "options": [
              "attribution",
              "detect_retina",
              "max_native_zoom",
              "max_zoom",
              "min_native_zoom",
              "min_zoom",
              "no_wrap",
              "tile_size",
              "tms"
            ],
            "popup": null,
            "popup_max_height": null,
            "popup_max_width": 300,
            "popup_min_width": 50,
            "show_loading": false,
            "tile_size": 256,
            "tms": false,
            "url": "https://earthengine.googleapis.com/v1alpha/projects/earthengine-legacy/maps/7f00e074f372a837cd976de9471b1676-e381fc306ccd0f2a57249d9dd7e0a4a1/tiles/{z}/{x}/{y}",
            "visible": true
          }
        },
        "d9dd7321b79f4b9fbb642d7463476339": {
          "model_module": "@jupyter-widgets/base",
          "model_module_version": "1.2.0",
          "model_name": "LayoutModel",
          "state": {
            "_model_module": "@jupyter-widgets/base",
            "_model_module_version": "1.2.0",
            "_model_name": "LayoutModel",
            "_view_count": null,
            "_view_module": "@jupyter-widgets/base",
            "_view_module_version": "1.2.0",
            "_view_name": "LayoutView",
            "align_content": null,
            "align_items": null,
            "align_self": null,
            "border": null,
            "bottom": null,
            "display": null,
            "flex": null,
            "flex_flow": null,
            "grid_area": null,
            "grid_auto_columns": null,
            "grid_auto_flow": null,
            "grid_auto_rows": null,
            "grid_column": null,
            "grid_gap": null,
            "grid_row": null,
            "grid_template_areas": null,
            "grid_template_columns": null,
            "grid_template_rows": null,
            "height": "600px",
            "justify_content": null,
            "justify_items": null,
            "left": null,
            "margin": null,
            "max_height": null,
            "max_width": null,
            "min_height": null,
            "min_width": null,
            "object_fit": null,
            "object_position": null,
            "order": null,
            "overflow": null,
            "overflow_x": null,
            "overflow_y": null,
            "padding": null,
            "right": null,
            "top": null,
            "visibility": null,
            "width": null
          }
        },
        "e056361e750244cb893d57696d91d163": {
          "model_module": "jupyter-leaflet",
          "model_module_version": "^0.14.0",
          "model_name": "LeafletTileLayerModel",
          "state": {
            "_model_module": "jupyter-leaflet",
            "_model_module_version": "^0.14.0",
            "_model_name": "LeafletTileLayerModel",
            "_view_count": null,
            "_view_module": "jupyter-leaflet",
            "_view_module_version": "^0.14.0",
            "_view_name": "LeafletTileLayerView",
            "attribution": "Google Earth Engine",
            "base": false,
            "bottom": true,
            "detect_retina": false,
            "loading": false,
            "max_native_zoom": 18,
            "max_zoom": 24,
            "min_native_zoom": 0,
            "min_zoom": 0,
            "name": "ECMWF Air temperature at 2m (K)",
            "no_wrap": false,
            "opacity": 1,
            "options": [
              "attribution",
              "detect_retina",
              "max_native_zoom",
              "max_zoom",
              "min_native_zoom",
              "min_zoom",
              "no_wrap",
              "tile_size",
              "tms"
            ],
            "popup": null,
            "popup_max_height": null,
            "popup_max_width": 300,
            "popup_min_width": 50,
            "show_loading": false,
            "tile_size": 256,
            "tms": false,
            "url": "https://earthengine.googleapis.com/v1alpha/projects/earthengine-legacy/maps/dd748d80d2ea97c70d0325ced8123e11-e0bcfa6dc935afff888fbd158167a594/tiles/{z}/{x}/{y}",
            "visible": false
          }
        },
        "e4f1e13d3bb64a058f8300c32e71df52": {
          "model_module": "jupyter-leaflet",
          "model_module_version": "^0.14.0",
          "model_name": "LeafletFullScreenControlModel",
          "state": {
            "_model_module": "jupyter-leaflet",
            "_model_module_version": "^0.14.0",
            "_model_name": "LeafletFullScreenControlModel",
            "_view_count": null,
            "_view_module": "jupyter-leaflet",
            "_view_module_version": "^0.14.0",
            "_view_name": "LeafletFullScreenControlView",
            "options": [
              "position"
            ],
            "position": "topleft"
          }
        },
        "e9857e93409f49a6904b752cbcfbd6e3": {
          "model_module": "@jupyter-widgets/base",
          "model_module_version": "1.2.0",
          "model_name": "LayoutModel",
          "state": {
            "_model_module": "@jupyter-widgets/base",
            "_model_module_version": "1.2.0",
            "_model_name": "LayoutModel",
            "_view_count": null,
            "_view_module": "@jupyter-widgets/base",
            "_view_module_version": "1.2.0",
            "_view_name": "LayoutView",
            "align_content": null,
            "align_items": null,
            "align_self": null,
            "border": null,
            "bottom": null,
            "display": null,
            "flex": null,
            "flex_flow": null,
            "grid_area": null,
            "grid_auto_columns": null,
            "grid_auto_flow": null,
            "grid_auto_rows": null,
            "grid_column": null,
            "grid_gap": null,
            "grid_row": null,
            "grid_template_areas": null,
            "grid_template_columns": null,
            "grid_template_rows": null,
            "height": "28px",
            "justify_content": null,
            "justify_items": null,
            "left": null,
            "margin": null,
            "max_height": null,
            "max_width": null,
            "min_height": null,
            "min_width": null,
            "object_fit": null,
            "object_position": null,
            "order": null,
            "overflow": null,
            "overflow_x": null,
            "overflow_y": null,
            "padding": "0px 0px 0px 4px",
            "right": null,
            "top": null,
            "visibility": null,
            "width": "28px"
          }
        },
        "f1ce2c67835848bab221d6a18d9db73d": {
          "model_module": "jupyter-leaflet",
          "model_module_version": "^0.14.0",
          "model_name": "LeafletMeasureControlModel",
          "state": {
            "_custom_units": {},
            "_model_module": "jupyter-leaflet",
            "_model_module_version": "^0.14.0",
            "_model_name": "LeafletMeasureControlModel",
            "_view_count": null,
            "_view_module": "jupyter-leaflet",
            "_view_module_version": "^0.14.0",
            "_view_name": "LeafletMeasureControlView",
            "active_color": "orange",
            "capture_z_index": 10000,
            "completed_color": "#C8F2BE",
            "options": [
              "active_color",
              "capture_z_index",
              "completed_color",
              "popup_options",
              "position",
              "primary_area_unit",
              "primary_length_unit",
              "secondary_area_unit",
              "secondary_length_unit"
            ],
            "popup_options": {
              "autoPanPadding": [
                10,
                10
              ],
              "className": "leaflet-measure-resultpopup"
            },
            "position": "bottomleft",
            "primary_area_unit": "acres",
            "primary_length_unit": "kilometers",
            "secondary_area_unit": null,
            "secondary_length_unit": null
          }
        }
      }
    }
  },
  "nbformat": 4,
  "nbformat_minor": 0
}
