{
 "cells": [
  {
   "cell_type": "markdown",
   "id": "1bb6e63e",
   "metadata": {},
   "source": [
    "# Reducing an image collection with a feature collection\n",
    "\n",
    "In this notebook the goal is to export time series of image data (including image properties) for an arbitrary collection of features."
   ]
  },
  {
   "cell_type": "markdown",
   "id": "f5a1f1c0",
   "metadata": {},
   "source": [
    "## Sample fields\n",
    "\n",
    "The [sample_fields_collection.geojson](../data/sample_fields_collection.geojson) file contains a sample of about 200 center-pivot fields:"
   ]
  },
  {
   "cell_type": "code",
   "execution_count": null,
   "id": "0003f342",
   "metadata": {},
   "outputs": [],
   "source": [
    "import geopandas as gpd\n",
    "\n",
    "fields = gpd.read_file('../data/sample_fields_collection.geojson')\n",
    "fields.explore()"
   ]
  },
  {
   "cell_type": "markdown",
   "id": "86f0c0a1",
   "metadata": {},
   "source": [
    "## The `reducers` module\n",
    "\n",
    "The `eepredefined.reducers` module includes a robust ee.ImageCollection reducer that you can use to retrieve:\n",
    "\n",
    "- Only the specified bands \n",
    "- Selected image properties\n",
    "- Selected feature properties\n",
    "- Sets a useful `date` property (based on the image's `system:time_start` property) with a given `date_format` (default `YYYY-MM-dd'T'HH:mm:ss`, e.g. 2015-04-24T10:11:00)\n"
   ]
  },
  {
   "cell_type": "markdown",
   "id": "e3a43b54",
   "metadata": {},
   "source": [
    "## Simple Landsat example\n",
    "\n",
    "Let's start with a simple example using the `landsat` module and simply retrieving e.g., mean `albedo`, mean`NDVI`, and cloud cover for one year of data for each feature.\n",
    "\n",
    "### Step 1: landsat.collection"
   ]
  },
  {
   "cell_type": "code",
   "execution_count": null,
   "id": "3b3b04e2",
   "metadata": {},
   "outputs": [],
   "source": [
    "import ee\n",
    "import geeet\n",
    "from geeet.eepredefined import landsat, reducers, parsers\n",
    "ee.Initialize()\n",
    "\n",
    "region = parsers.feature_collection(fields) #  👀geeet also provides a robust parser -> ee.FeatureCollection\n",
    "coll = landsat.collection(\n",
    "    date_start=\"2015-01-01\",\n",
    "    date_end=\"2016-01-01\",\n",
    "    max_cc = 5,\n",
    "    region=region \n",
    ")"
   ]
  },
  {
   "cell_type": "markdown",
   "id": "6b37e949",
   "metadata": {},
   "source": [
    "### Step 2: reducers.image_collection\n",
    "\n",
    "If you are interested in the average band value over each feature, you just need to include the band name in the `mean_bands` list parameter. If you are interested in the total band value (i.e. sum of all pixels), then you would use the `sum_bands` list parameter. \n",
    "\n",
    "We will also include some image properties in the data, e.g. `SPACECRAFT_ID` (to know which Landsat satellite was used for each data row), `WRS_PATH`, and `WRS_ROW`. We specify this using the `img_properties` parameter.\n",
    "\n",
    "Similarly, if your original feature collection includes properties, you can select them with `feature_properties`. In this example, we will keep the `uid` property, which stands for unique ID. \n",
    "\n",
    "\n",
    "\n",
    "Finally, if you need to be specific about the [scale of analysis](https://developers.google.com/earth-engine/guides/scale#scale-of-analysis) (which in general you *should*), you can specify it using the `reducer_kwargs` parameter. Here we will specify the scale of analysis with the [EPSG:32638](https://epsg.io/32638) [coordinate reference system (crs)](https://developers.google.com/earth-engine/guides/scale#scale-of-analysis) at a scale of 30m. \n",
    "\n",
    ">  ⚠️ When using Landsat data, it is always better to use crs and crsTransform instead of crs and scale. Read why [here](https://developers.google.com/earth-engine/guides/exporting_images#setting_scale). However, to keep this example simple we will stick to crs + scale. "
   ]
  },
  {
   "cell_type": "code",
   "execution_count": null,
   "id": "e7c859fb",
   "metadata": {},
   "outputs": [],
   "source": [
    "region = parsers.feature_collection(fields)\n",
    "data = reducers.image_collection(\n",
    "    feature_collection=region,\n",
    "    img_collection=coll,\n",
    "    mean_bands = ['albedo', 'NDVI', 'cloud_cover'],\n",
    "    img_properties=['SPACECRAFT_ID', 'WRS_PATH', 'WRS_ROW'],\n",
    "    feature_properties=['uid'],\n",
    "    reducer_kwargs=dict(crs=\"EPSG:32638\", scale=30)\n",
    ")"
   ]
  },
  {
   "cell_type": "markdown",
   "id": "8a2a962a",
   "metadata": {},
   "source": [
    "## Step 3: exporting the data\n",
    "\n",
    "You can choose to export the data either as a shapefile (GeoJSON or shp), or as a CSV. \n",
    "\n",
    "When you export the data you can also choose which data columns to export, otherwise it includes all the data columns, which does include the geometry. Exporting the geometry is redundant (you already have the input feature collection), so it will be better to skip it by choosing CSV and not selecting the geometry. However, you do need a unique ID for each feature so you can relate your input feature collection with the data (which in this example we have). \n",
    "\n",
    "To export the data, we use the any of the [ee.batch.Export.table.to* functions](https://developers.google.com/earth-engine/apidocs/export-table-todrive#colab-python), which returns a [task](https://developers.google.com/earth-engine/guides/processing_environments#batch_environment) object. Here let's use `toDrive`."
   ]
  },
  {
   "cell_type": "code",
   "execution_count": null,
   "id": "93c4be03",
   "metadata": {},
   "outputs": [],
   "source": [
    "task = ee.batch.Export.table.toDrive(\n",
    "    collection=data,\n",
    "    description='ee landsat fc reducer demo',\n",
    "    fileNamePrefix='ee_landsat_fc_reducer_demo',\n",
    "    fileFormat='CSV',\n",
    "    selectors = ['uid', 'date','SPACECRAFT_ID', 'WRS_PATH', 'WRS_ROW', 'albedo', 'NDVI', 'cloud_cover']\n",
    "    #                    👀 include date! which is by default included as a feature property\n",
    "    # but DON'T include it in the `feature_properties`  paramater \n",
    ")\n",
    "task"
   ]
  },
  {
   "cell_type": "markdown",
   "id": "bc7ce220",
   "metadata": {},
   "source": [
    "You need to use `task.start()` to submit it to the [batch processing environment](https://developers.google.com/earth-engine/guides/processing_environments#batch_environment)."
   ]
  },
  {
   "cell_type": "code",
   "execution_count": null,
   "id": "f6b6127f",
   "metadata": {},
   "outputs": [],
   "source": [
    "task.start()"
   ]
  },
  {
   "cell_type": "markdown",
   "id": "9b6c1442",
   "metadata": {},
   "source": [
    "You can monitor the progress of the task in the Task tab on the [right panel in the code editor](https://developers.google.com/earth-engine/guides/playground):\n",
    "\n",
    "![image](https://developers.google.com/static/earth-engine/images/Code_editor_diagram.png)\n",
    "\n",
    "or directly in (https://code.earthengine.google.com/tasks)[https://code.earthengine.google.com/tasks].\n",
    "\n",
    "> Make sure you select the same Project where you submitted the Task!\n",
    "\n",
    "If you use vscode, give the [Earth Engine Task Manager](https://marketplace.visualstudio.com/items/?itemName=gee-community.eetasks) a try. You can view the progress of tasks directly in vscode (see more information in the [github repository](https://github.com/gee-community/eetasks)). \n",
    "\n",
    "For reference, the above task took 34 seconds of runtime 5 [EECU-seconds (click here for more information)](https://developers.google.com/earth-engine/guides/computation_overview#eecus) of processing power. The total number of Landsat images required for this process were 65."
   ]
  },
  {
   "cell_type": "markdown",
   "id": "efee3deb",
   "metadata": {},
   "source": [
    "## Result\n",
    "\n",
    "Now we will read the exported result, which is [included here](../data/ee%20landsat%20fc%20reducer%20demo.csv) for comparison.\n"
   ]
  },
  {
   "cell_type": "code",
   "execution_count": null,
   "id": "59fd6543",
   "metadata": {},
   "outputs": [],
   "source": [
    "import pandas as pd\n",
    "\n",
    "result = pd.read_csv(\"../data/ee_landsat_fc_reducer_demo.csv\", \n",
    "                     index_col='uid',\n",
    "                     parse_dates=['date'])\n",
    "result"
   ]
  },
  {
   "cell_type": "markdown",
   "id": "9275f0e2",
   "metadata": {},
   "source": [
    "Let's plot the data for a specific field, e.g. the one with `uid=22162`"
   ]
  },
  {
   "cell_type": "code",
   "execution_count": null,
   "id": "a8cfc10c",
   "metadata": {},
   "outputs": [],
   "source": [
    "import matplotlib.pyplot as plt\n",
    "fig, ax = plt.subplots(1, 1, figsize=(10,3))\n",
    "# NDVI (all)\n",
    "result.loc[22162].set_index('date').NDVI.plot(ax=ax, label='NDVI')\n",
    "# NDVI (only Landsat 7)\n",
    "(result.loc[22162].set_index('date')\n",
    " .query(\"SPACECRAFT_ID=='LANDSAT_7'\").NDVI\n",
    " .plot(ax=ax, label='NDVI (L7)', marker='X', linestyle=''))\n",
    "# NDVI (only Landsat 8)\n",
    "(result.loc[22162].set_index('date')\n",
    " .query(\"SPACECRAFT_ID=='LANDSAT_8'\").NDVI\n",
    " .plot(ax=ax, label='NDVI (L8)', marker='X', linestyle=''))\n",
    "ax.set_xlabel(\"\")\n",
    "ax.legend()"
   ]
  }
 ],
 "metadata": {
  "kernelspec": {
   "display_name": "base",
   "language": "python",
   "name": "python3"
  },
  "language_info": {
   "codemirror_mode": {
    "name": "ipython",
    "version": 3
   },
   "file_extension": ".py",
   "mimetype": "text/x-python",
   "name": "python",
   "nbconvert_exporter": "python",
   "pygments_lexer": "ipython3",
   "version": "3.12.8"
  }
 },
 "nbformat": 4,
 "nbformat_minor": 5
}
